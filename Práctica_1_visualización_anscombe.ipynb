{
  "nbformat": 4,
  "nbformat_minor": 0,
  "metadata": {
    "colab": {
      "name": "Práctica 1 visualización - anscombe.ipynb",
      "provenance": [],
      "collapsed_sections": []
    },
    "kernelspec": {
      "name": "python3",
      "display_name": "Python 3"
    }
  },
  "cells": [
    {
      "cell_type": "code",
      "metadata": {
        "id": "9sWtLavQihDJ"
      },
      "source": [
        "import pandas as pd"
      ],
      "execution_count": 3,
      "outputs": []
    },
    {
      "cell_type": "code",
      "metadata": {
        "id": "wfYnY9I2gq4K",
        "colab": {
          "base_uri": "https://localhost:8080/"
        },
        "outputId": "ac0f02fe-6cfe-473a-e565-a3e06adab074"
      },
      "source": [
        "from google.colab import drive\r\n",
        "drive.mount('/content/drive/')"
      ],
      "execution_count": 1,
      "outputs": [
        {
          "output_type": "stream",
          "text": [
            "Drive already mounted at /content/drive/; to attempt to forcibly remount, call drive.mount(\"/content/drive/\", force_remount=True).\n"
          ],
          "name": "stdout"
        }
      ]
    },
    {
      "cell_type": "code",
      "metadata": {
        "colab": {
          "base_uri": "https://localhost:8080/",
          "height": 394
        },
        "id": "j48ruwd3iXVx",
        "outputId": "7ff1d3b2-79c7-4760-88de-60f8f8682a68"
      },
      "source": [
        "df = pd.read_csv('/content/drive/MyDrive/Visualización/anscombe.csv')\r\n",
        "df"
      ],
      "execution_count": 17,
      "outputs": [
        {
          "output_type": "execute_result",
          "data": {
            "text/html": [
              "<div>\n",
              "<style scoped>\n",
              "    .dataframe tbody tr th:only-of-type {\n",
              "        vertical-align: middle;\n",
              "    }\n",
              "\n",
              "    .dataframe tbody tr th {\n",
              "        vertical-align: top;\n",
              "    }\n",
              "\n",
              "    .dataframe thead th {\n",
              "        text-align: right;\n",
              "    }\n",
              "</style>\n",
              "<table border=\"1\" class=\"dataframe\">\n",
              "  <thead>\n",
              "    <tr style=\"text-align: right;\">\n",
              "      <th></th>\n",
              "      <th>Unnamed: 0</th>\n",
              "      <th>x1</th>\n",
              "      <th>x2</th>\n",
              "      <th>x3</th>\n",
              "      <th>x4</th>\n",
              "      <th>y1</th>\n",
              "      <th>y2</th>\n",
              "      <th>y3</th>\n",
              "      <th>y4</th>\n",
              "    </tr>\n",
              "  </thead>\n",
              "  <tbody>\n",
              "    <tr>\n",
              "      <th>0</th>\n",
              "      <td>1</td>\n",
              "      <td>10</td>\n",
              "      <td>10</td>\n",
              "      <td>10</td>\n",
              "      <td>8</td>\n",
              "      <td>8.04</td>\n",
              "      <td>9.14</td>\n",
              "      <td>7.46</td>\n",
              "      <td>6.58</td>\n",
              "    </tr>\n",
              "    <tr>\n",
              "      <th>1</th>\n",
              "      <td>2</td>\n",
              "      <td>8</td>\n",
              "      <td>8</td>\n",
              "      <td>8</td>\n",
              "      <td>8</td>\n",
              "      <td>6.95</td>\n",
              "      <td>8.14</td>\n",
              "      <td>6.77</td>\n",
              "      <td>5.76</td>\n",
              "    </tr>\n",
              "    <tr>\n",
              "      <th>2</th>\n",
              "      <td>3</td>\n",
              "      <td>13</td>\n",
              "      <td>13</td>\n",
              "      <td>13</td>\n",
              "      <td>8</td>\n",
              "      <td>7.58</td>\n",
              "      <td>8.74</td>\n",
              "      <td>12.74</td>\n",
              "      <td>7.71</td>\n",
              "    </tr>\n",
              "    <tr>\n",
              "      <th>3</th>\n",
              "      <td>4</td>\n",
              "      <td>9</td>\n",
              "      <td>9</td>\n",
              "      <td>9</td>\n",
              "      <td>8</td>\n",
              "      <td>8.81</td>\n",
              "      <td>8.77</td>\n",
              "      <td>7.11</td>\n",
              "      <td>8.84</td>\n",
              "    </tr>\n",
              "    <tr>\n",
              "      <th>4</th>\n",
              "      <td>5</td>\n",
              "      <td>11</td>\n",
              "      <td>11</td>\n",
              "      <td>11</td>\n",
              "      <td>8</td>\n",
              "      <td>8.33</td>\n",
              "      <td>9.26</td>\n",
              "      <td>7.81</td>\n",
              "      <td>8.47</td>\n",
              "    </tr>\n",
              "    <tr>\n",
              "      <th>5</th>\n",
              "      <td>6</td>\n",
              "      <td>14</td>\n",
              "      <td>14</td>\n",
              "      <td>14</td>\n",
              "      <td>8</td>\n",
              "      <td>9.96</td>\n",
              "      <td>8.10</td>\n",
              "      <td>8.84</td>\n",
              "      <td>7.04</td>\n",
              "    </tr>\n",
              "    <tr>\n",
              "      <th>6</th>\n",
              "      <td>7</td>\n",
              "      <td>6</td>\n",
              "      <td>6</td>\n",
              "      <td>6</td>\n",
              "      <td>8</td>\n",
              "      <td>7.24</td>\n",
              "      <td>6.13</td>\n",
              "      <td>6.08</td>\n",
              "      <td>5.25</td>\n",
              "    </tr>\n",
              "    <tr>\n",
              "      <th>7</th>\n",
              "      <td>8</td>\n",
              "      <td>4</td>\n",
              "      <td>4</td>\n",
              "      <td>4</td>\n",
              "      <td>19</td>\n",
              "      <td>4.26</td>\n",
              "      <td>3.10</td>\n",
              "      <td>5.39</td>\n",
              "      <td>12.50</td>\n",
              "    </tr>\n",
              "    <tr>\n",
              "      <th>8</th>\n",
              "      <td>9</td>\n",
              "      <td>12</td>\n",
              "      <td>12</td>\n",
              "      <td>12</td>\n",
              "      <td>8</td>\n",
              "      <td>10.84</td>\n",
              "      <td>9.13</td>\n",
              "      <td>8.15</td>\n",
              "      <td>5.56</td>\n",
              "    </tr>\n",
              "    <tr>\n",
              "      <th>9</th>\n",
              "      <td>10</td>\n",
              "      <td>7</td>\n",
              "      <td>7</td>\n",
              "      <td>7</td>\n",
              "      <td>8</td>\n",
              "      <td>4.82</td>\n",
              "      <td>7.26</td>\n",
              "      <td>6.42</td>\n",
              "      <td>7.91</td>\n",
              "    </tr>\n",
              "    <tr>\n",
              "      <th>10</th>\n",
              "      <td>11</td>\n",
              "      <td>5</td>\n",
              "      <td>5</td>\n",
              "      <td>5</td>\n",
              "      <td>8</td>\n",
              "      <td>5.68</td>\n",
              "      <td>4.74</td>\n",
              "      <td>5.73</td>\n",
              "      <td>6.89</td>\n",
              "    </tr>\n",
              "  </tbody>\n",
              "</table>\n",
              "</div>"
            ],
            "text/plain": [
              "    Unnamed: 0  x1  x2  x3  x4     y1    y2     y3     y4\n",
              "0            1  10  10  10   8   8.04  9.14   7.46   6.58\n",
              "1            2   8   8   8   8   6.95  8.14   6.77   5.76\n",
              "2            3  13  13  13   8   7.58  8.74  12.74   7.71\n",
              "3            4   9   9   9   8   8.81  8.77   7.11   8.84\n",
              "4            5  11  11  11   8   8.33  9.26   7.81   8.47\n",
              "5            6  14  14  14   8   9.96  8.10   8.84   7.04\n",
              "6            7   6   6   6   8   7.24  6.13   6.08   5.25\n",
              "7            8   4   4   4  19   4.26  3.10   5.39  12.50\n",
              "8            9  12  12  12   8  10.84  9.13   8.15   5.56\n",
              "9           10   7   7   7   8   4.82  7.26   6.42   7.91\n",
              "10          11   5   5   5   8   5.68  4.74   5.73   6.89"
            ]
          },
          "metadata": {
            "tags": []
          },
          "execution_count": 17
        }
      ]
    },
    {
      "cell_type": "markdown",
      "metadata": {
        "id": "bf4HHMWelhB_"
      },
      "source": [
        "Calculamos la Media, Mediana y Moda de y1, y2, y3 e y4"
      ]
    },
    {
      "cell_type": "code",
      "metadata": {
        "colab": {
          "base_uri": "https://localhost:8080/"
        },
        "id": "Ypiy93IDi4r0",
        "outputId": "b0a9ca76-f115-444c-bf3c-3a5a2d6c534a"
      },
      "source": [
        "# Media, mediana y moda de y1. \r\n",
        "# Puesto que no hay dos valores iguales, la función mode()\r\n",
        "# nos muestra todos los valores.\r\n",
        "\r\n",
        "print('La media de y1 es: ', df.y1.mean())\r\n",
        "print('La mediana de y1 es: ', df.y1.median())\r\n",
        "print('La moda de y1 es: ', df.y1.mode())"
      ],
      "execution_count": 25,
      "outputs": [
        {
          "output_type": "stream",
          "text": [
            "La media de y1 es:  7.500909090909093\n",
            "La mediana de y1 es:  7.58\n",
            "La moda de y1 es:  0      4.26\n",
            "1      4.82\n",
            "2      5.68\n",
            "3      6.95\n",
            "4      7.24\n",
            "5      7.58\n",
            "6      8.04\n",
            "7      8.33\n",
            "8      8.81\n",
            "9      9.96\n",
            "10    10.84\n",
            "dtype: float64\n"
          ],
          "name": "stdout"
        }
      ]
    },
    {
      "cell_type": "code",
      "metadata": {
        "colab": {
          "base_uri": "https://localhost:8080/"
        },
        "id": "l2J3nsoQlJ1a",
        "outputId": "122a07eb-4209-4d85-e7e7-bc84dbc4d988"
      },
      "source": [
        "# Media, mediana y moda de y2. \r\n",
        "# Puesto que no hay dos valores iguales, la función mode()\r\n",
        "# nos muestra todos los valores.\r\n",
        "\r\n",
        "print('La media de y2 es: ', df.y2.mean())\r\n",
        "print('La mediana de y2 es: ', df.y2.median())\r\n",
        "print('La moda de y2 es: ', df.y2.mode())"
      ],
      "execution_count": 26,
      "outputs": [
        {
          "output_type": "stream",
          "text": [
            "La media de y2 es:  7.500909090909091\n",
            "La mediana de y2 es:  8.14\n",
            "La moda de y2 es:  0     3.10\n",
            "1     4.74\n",
            "2     6.13\n",
            "3     7.26\n",
            "4     8.10\n",
            "5     8.14\n",
            "6     8.74\n",
            "7     8.77\n",
            "8     9.13\n",
            "9     9.14\n",
            "10    9.26\n",
            "dtype: float64\n"
          ],
          "name": "stdout"
        }
      ]
    },
    {
      "cell_type": "code",
      "metadata": {
        "colab": {
          "base_uri": "https://localhost:8080/"
        },
        "id": "wjvKWK6_rVL3",
        "outputId": "9e267ff7-2124-4ac3-9c6b-03bafbfb50ec"
      },
      "source": [
        "# Media, mediana y moda de y3. \r\n",
        "# Puesto que no hay dos valores iguales, la función mode()\r\n",
        "# nos muestra todos los valores.\r\n",
        "\r\n",
        "print('La media de y3 es: ', df.y3.mean())\r\n",
        "print('La mediana de y3 es: ', df.y3.median())\r\n",
        "print('La moda de y3 es: ', df.y3.mode())"
      ],
      "execution_count": 27,
      "outputs": [
        {
          "output_type": "stream",
          "text": [
            "La media de y3 es:  7.500000000000001\n",
            "La mediana de y3 es:  7.11\n",
            "La moda de y3 es:  0      5.39\n",
            "1      5.73\n",
            "2      6.08\n",
            "3      6.42\n",
            "4      6.77\n",
            "5      7.11\n",
            "6      7.46\n",
            "7      7.81\n",
            "8      8.15\n",
            "9      8.84\n",
            "10    12.74\n",
            "dtype: float64\n"
          ],
          "name": "stdout"
        }
      ]
    },
    {
      "cell_type": "code",
      "metadata": {
        "colab": {
          "base_uri": "https://localhost:8080/"
        },
        "id": "S8NGgnptrdHm",
        "outputId": "a9c16c89-6427-4af9-eb13-0857a8e5cd76"
      },
      "source": [
        "# Media, mediana y moda de y4. \r\n",
        "# Puesto que no hay dos valores iguales, la función mode()\r\n",
        "# nos muestra todos los valores.\r\n",
        "\r\n",
        "print('La media de y4 es: ', df.y4.mean())\r\n",
        "print('La mediana de y4 es: ', df.y4.median())\r\n",
        "print('La moda de y4 es: ', df.y4.mode())"
      ],
      "execution_count": 28,
      "outputs": [
        {
          "output_type": "stream",
          "text": [
            "La media de y4 es:  7.50090909090909\n",
            "La mediana de y4 es:  7.04\n",
            "La moda de y4 es:  0      5.25\n",
            "1      5.56\n",
            "2      5.76\n",
            "3      6.58\n",
            "4      6.89\n",
            "5      7.04\n",
            "6      7.71\n",
            "7      7.91\n",
            "8      8.47\n",
            "9      8.84\n",
            "10    12.50\n",
            "dtype: float64\n"
          ],
          "name": "stdout"
        }
      ]
    },
    {
      "cell_type": "markdown",
      "metadata": {
        "id": "Otfg1Xp8sZOO"
      },
      "source": [
        "En los 4 casos, la media es prácticamente igual, la mediana difiere más, oscilando entre 7.04 y 8.14, y la moda no existe, puesto que no hay dos valores que se repitan."
      ]
    },
    {
      "cell_type": "markdown",
      "metadata": {
        "id": "kSOZLu2lr363"
      },
      "source": [
        "Ahora, mostramos los gráficos de dispersión (xi, yi)."
      ]
    },
    {
      "cell_type": "code",
      "metadata": {
        "id": "Mj-WQfbQtjJO"
      },
      "source": [
        "from matplotlib.pyplot import subplot, scatter, plot, axis\r\n",
        "from scipy.stats import linregress"
      ],
      "execution_count": 33,
      "outputs": []
    },
    {
      "cell_type": "code",
      "metadata": {
        "id": "icnfGgUvvHVe"
      },
      "source": [
        "xmax = 20\r\n",
        "ymax = 14"
      ],
      "execution_count": 36,
      "outputs": []
    },
    {
      "cell_type": "code",
      "metadata": {
        "colab": {
          "base_uri": "https://localhost:8080/",
          "height": 167
        },
        "id": "KMz-cr6Zuawu",
        "outputId": "5f9e5d97-ff2e-43e8-89e3-a8132e2de7b8"
      },
      "source": [
        "ax1 = subplot(2, 2, 1)\r\n",
        "scatter(df.x1, df.y1)\r\n",
        "slope, intercept, r_value, p_value, std_err = linregress(df.x1, df.y1)\r\n",
        "plot([0, xmax], [intercept, slope * xmax + intercept])\r\n",
        "print(\"{0:.3f} {1:.2f} {2:.3f} {3:.3f} {4:.3f}\".format(slope, intercept, r_value, p_value, std_err))"
      ],
      "execution_count": 37,
      "outputs": [
        {
          "output_type": "stream",
          "text": [
            "0.500 3.00 0.816 0.002 0.118\n"
          ],
          "name": "stdout"
        },
        {
          "output_type": "display_data",
          "data": {
            "image/png": "[encoded data removed]",
            "text/plain": [
              "<Figure size 432x288 with 1 Axes>"
            ]
          },
          "metadata": {
            "tags": []
          }
        }
      ]
    },
    {
      "cell_type": "code",
      "metadata": {
        "colab": {
          "base_uri": "https://localhost:8080/",
          "height": 167
        },
        "id": "jqeX4CQmu8PG",
        "outputId": "369d6712-2ce4-4a91-b6c6-6e6fa6b49bfd"
      },
      "source": [
        "subplot(2, 2, 2, sharex=ax1, sharey=ax1)\r\n",
        "scatter(df.x2, df.y2)\r\n",
        "slope, intercept, r_value, p_value, std_err = linregress(df.x2, df.y2)\r\n",
        "plot([0, xmax], [intercept, slope * xmax + intercept])\r\n",
        "print(\"{0:.3f} {1:.2f} {2:.3f} {3:.3f} {4:.3f}\".format(slope, intercept, r_value, p_value, std_err))"
      ],
      "execution_count": 38,
      "outputs": [
        {
          "output_type": "stream",
          "text": [
            "0.500 3.00 0.816 0.002 0.118\n"
          ],
          "name": "stdout"
        },
        {
          "output_type": "display_data",
          "data": {
            "image/png": "[encoded data removed]",
            "text/plain": [
              "<Figure size 432x288 with 1 Axes>"
            ]
          },
          "metadata": {
            "tags": []
          }
        }
      ]
    },
    {
      "cell_type": "code",
      "metadata": {
        "colab": {
          "base_uri": "https://localhost:8080/",
          "height": 167
        },
        "id": "bVFPah1YvWju",
        "outputId": "173ec6c8-600c-4f2b-8733-02e0a8c35561"
      },
      "source": [
        "subplot(2, 2, 3, sharex=ax1, sharey=ax1)\r\n",
        "scatter(df.x3, df.y3)\r\n",
        "slope, intercept, r_value, p_value, std_err = linregress(df.x3, df.y3)\r\n",
        "plot([0, xmax], [intercept, slope * xmax + intercept])\r\n",
        "print(\"{0:.3f} {1:.2f} {2:.3f} {3:.3f} {4:.3f}\".format(slope, intercept, r_value, p_value, std_err))"
      ],
      "execution_count": 39,
      "outputs": [
        {
          "output_type": "stream",
          "text": [
            "0.500 3.00 0.816 0.002 0.118\n"
          ],
          "name": "stdout"
        },
        {
          "output_type": "display_data",
          "data": {
            "image/png": "[encoded data removed]",
            "text/plain": [
              "<Figure size 432x288 with 1 Axes>"
            ]
          },
          "metadata": {
            "tags": []
          }
        }
      ]
    },
    {
      "cell_type": "code",
      "metadata": {
        "colab": {
          "base_uri": "https://localhost:8080/",
          "height": 167
        },
        "id": "2vnliWuoviM4",
        "outputId": "be2bf2bf-4e72-4186-8aee-ad2b7f9bfd20"
      },
      "source": [
        "subplot(2, 2, 4, sharex=ax1, sharey=ax1)\r\n",
        "scatter(df.x4, df.y4)\r\n",
        "slope, intercept, r_value, p_value, std_err = linregress(df.x4, df.y4)\r\n",
        "plot([0, xmax], [intercept, slope * xmax + intercept])\r\n",
        "print(\"{0:.3f} {1:.2f} {2:.3f} {3:.3f} {4:.3f}\".format(slope, intercept, r_value, p_value, std_err))"
      ],
      "execution_count": 40,
      "outputs": [
        {
          "output_type": "stream",
          "text": [
            "0.500 3.00 0.817 0.002 0.118\n"
          ],
          "name": "stdout"
        },
        {
          "output_type": "display_data",
          "data": {
            "image/png": "[encoded data removed]",
            "text/plain": [
              "<Figure size 432x288 with 1 Axes>"
            ]
          },
          "metadata": {
            "tags": []
          }
        }
      ]
    },
    {
      "cell_type": "markdown",
      "metadata": {
        "id": "Hr284VCzv0ZQ"
      },
      "source": [
        "Como puede verse, a pesar de que la forma de la nube de puntos es radicalmente diferente para cada par (xi, yi), los valores de la media y mediana son muy parecidos, y su recta de regresión es la misma. "
      ]
    }
  ]
}