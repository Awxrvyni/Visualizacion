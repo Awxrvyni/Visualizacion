{
  "nbformat": 4,
  "nbformat_minor": 0,
  "metadata": {
    "colab": {
      "name": "Práctica 1 visualización - anscombe-precios.ipynb",
      "provenance": [],
      "collapsed_sections": [],
      "toc_visible": true
    },
    "kernelspec": {
      "name": "python3",
      "display_name": "Python 3"
    }
  },
  "cells": [
    {
      "cell_type": "markdown",
      "source": [
        "# 1.1 Cuarteto de Anscombe"
      ],
      "metadata": {
        "id": "sgVwt7wnRLhJ"
      }
    },
    {
      "cell_type": "code",
      "metadata": {
        "id": "9sWtLavQihDJ"
      },
      "source": [
        "import pandas as pd\n",
        "import numpy as np\n",
        "from pandas.api.types import CategoricalDtype\n",
        "from plotnine import *\n",
        "from plotnine.data import mpg\n",
        "%matplotlib inline"
      ],
      "execution_count": null,
      "outputs": []
    },
    {
      "cell_type": "code",
      "metadata": {
        "id": "wfYnY9I2gq4K",
        "colab": {
          "base_uri": "https://localhost:8080/"
        },
        "outputId": "784bec3e-0398-40c6-a6b2-c68c0161a98e"
      },
      "source": [
        "from google.colab import drive\n",
        "drive.mount('/content/drive/')"
      ],
      "execution_count": null,
      "outputs": [
        {
          "output_type": "stream",
          "name": "stdout",
          "text": [
            "Drive already mounted at /content/drive/; to attempt to forcibly remount, call drive.mount(\"/content/drive/\", force_remount=True).\n"
          ]
        }
      ]
    },
    {
      "cell_type": "code",
      "metadata": {
        "colab": {
          "base_uri": "https://localhost:8080/",
          "height": 394
        },
        "id": "j48ruwd3iXVx",
        "outputId": "10f008f6-33e7-4c43-d9a4-ba284571c270"
      },
      "source": [
        "df = pd.read_csv('/content/drive/MyDrive/Visualización/Práctica 1/anscombe.csv', index_col=[0])\n",
        "df"
      ],
      "execution_count": null,
      "outputs": [
        {
          "output_type": "execute_result",
          "data": {
            "text/html": [
              "\n",
              "  <div id=\"df-45005e30-02cd-47a2-9e36-e01e54725a88\">\n",
              "    <div class=\"colab-df-container\">\n",
              "      <div>\n",
              "<style scoped>\n",
              "    .dataframe tbody tr th:only-of-type {\n",
              "        vertical-align: middle;\n",
              "    }\n",
              "\n",
              "    .dataframe tbody tr th {\n",
              "        vertical-align: top;\n",
              "    }\n",
              "\n",
              "    .dataframe thead th {\n",
              "        text-align: right;\n",
              "    }\n",
              "</style>\n",
              "<table border=\"1\" class=\"dataframe\">\n",
              "  <thead>\n",
              "    <tr style=\"text-align: right;\">\n",
              "      <th></th>\n",
              "      <th>x1</th>\n",
              "      <th>x2</th>\n",
              "      <th>x3</th>\n",
              "      <th>x4</th>\n",
              "      <th>y1</th>\n",
              "      <th>y2</th>\n",
              "      <th>y3</th>\n",
              "      <th>y4</th>\n",
              "    </tr>\n",
              "  </thead>\n",
              "  <tbody>\n",
              "    <tr>\n",
              "      <th>1</th>\n",
              "      <td>10</td>\n",
              "      <td>10</td>\n",
              "      <td>10</td>\n",
              "      <td>8</td>\n",
              "      <td>8.04</td>\n",
              "      <td>9.14</td>\n",
              "      <td>7.46</td>\n",
              "      <td>6.58</td>\n",
              "    </tr>\n",
              "    <tr>\n",
              "      <th>2</th>\n",
              "      <td>8</td>\n",
              "      <td>8</td>\n",
              "      <td>8</td>\n",
              "      <td>8</td>\n",
              "      <td>6.95</td>\n",
              "      <td>8.14</td>\n",
              "      <td>6.77</td>\n",
              "      <td>5.76</td>\n",
              "    </tr>\n",
              "    <tr>\n",
              "      <th>3</th>\n",
              "      <td>13</td>\n",
              "      <td>13</td>\n",
              "      <td>13</td>\n",
              "      <td>8</td>\n",
              "      <td>7.58</td>\n",
              "      <td>8.74</td>\n",
              "      <td>12.74</td>\n",
              "      <td>7.71</td>\n",
              "    </tr>\n",
              "    <tr>\n",
              "      <th>4</th>\n",
              "      <td>9</td>\n",
              "      <td>9</td>\n",
              "      <td>9</td>\n",
              "      <td>8</td>\n",
              "      <td>8.81</td>\n",
              "      <td>8.77</td>\n",
              "      <td>7.11</td>\n",
              "      <td>8.84</td>\n",
              "    </tr>\n",
              "    <tr>\n",
              "      <th>5</th>\n",
              "      <td>11</td>\n",
              "      <td>11</td>\n",
              "      <td>11</td>\n",
              "      <td>8</td>\n",
              "      <td>8.33</td>\n",
              "      <td>9.26</td>\n",
              "      <td>7.81</td>\n",
              "      <td>8.47</td>\n",
              "    </tr>\n",
              "    <tr>\n",
              "      <th>6</th>\n",
              "      <td>14</td>\n",
              "      <td>14</td>\n",
              "      <td>14</td>\n",
              "      <td>8</td>\n",
              "      <td>9.96</td>\n",
              "      <td>8.10</td>\n",
              "      <td>8.84</td>\n",
              "      <td>7.04</td>\n",
              "    </tr>\n",
              "    <tr>\n",
              "      <th>7</th>\n",
              "      <td>6</td>\n",
              "      <td>6</td>\n",
              "      <td>6</td>\n",
              "      <td>8</td>\n",
              "      <td>7.24</td>\n",
              "      <td>6.13</td>\n",
              "      <td>6.08</td>\n",
              "      <td>5.25</td>\n",
              "    </tr>\n",
              "    <tr>\n",
              "      <th>8</th>\n",
              "      <td>4</td>\n",
              "      <td>4</td>\n",
              "      <td>4</td>\n",
              "      <td>19</td>\n",
              "      <td>4.26</td>\n",
              "      <td>3.10</td>\n",
              "      <td>5.39</td>\n",
              "      <td>12.50</td>\n",
              "    </tr>\n",
              "    <tr>\n",
              "      <th>9</th>\n",
              "      <td>12</td>\n",
              "      <td>12</td>\n",
              "      <td>12</td>\n",
              "      <td>8</td>\n",
              "      <td>10.84</td>\n",
              "      <td>9.13</td>\n",
              "      <td>8.15</td>\n",
              "      <td>5.56</td>\n",
              "    </tr>\n",
              "    <tr>\n",
              "      <th>10</th>\n",
              "      <td>7</td>\n",
              "      <td>7</td>\n",
              "      <td>7</td>\n",
              "      <td>8</td>\n",
              "      <td>4.82</td>\n",
              "      <td>7.26</td>\n",
              "      <td>6.42</td>\n",
              "      <td>7.91</td>\n",
              "    </tr>\n",
              "    <tr>\n",
              "      <th>11</th>\n",
              "      <td>5</td>\n",
              "      <td>5</td>\n",
              "      <td>5</td>\n",
              "      <td>8</td>\n",
              "      <td>5.68</td>\n",
              "      <td>4.74</td>\n",
              "      <td>5.73</td>\n",
              "      <td>6.89</td>\n",
              "    </tr>\n",
              "  </tbody>\n",
              "</table>\n",
              "</div>\n",
              "      <button class=\"colab-df-convert\" onclick=\"convertToInteractive('df-45005e30-02cd-47a2-9e36-e01e54725a88')\"\n",
              "              title=\"Convert this dataframe to an interactive table.\"\n",
              "              style=\"display:none;\">\n",
              "        \n",
              "  <svg xmlns=\"http://www.w3.org/2000/svg\" height=\"24px\"viewBox=\"0 0 24 24\"\n",
              "       width=\"24px\">\n",
              "    <path d=\"M0 0h24v24H0V0z\" fill=\"none\"/>\n",
              "    <path d=\"M18.56 5.44l.94 2.06.94-2.06 2.06-.94-2.06-.94-.94-2.06-.94 2.06-2.06.94zm-11 1L8.5 8.5l.94-2.06 2.06-.94-2.06-.94L8.5 2.5l-.94 2.06-2.06.94zm10 10l.94 2.06.94-2.06 2.06-.94-2.06-.94-.94-2.06-.94 2.06-2.06.94z\"/><path d=\"M17.41 7.96l-1.37-1.37c-.4-.4-.92-.59-1.43-.59-.52 0-1.04.2-1.43.59L10.3 9.45l-7.72 7.72c-.78.78-.78 2.05 0 2.83L4 21.41c.39.39.9.59 1.41.59.51 0 1.02-.2 1.41-.59l7.78-7.78 2.81-2.81c.8-.78.8-2.07 0-2.86zM5.41 20L4 18.59l7.72-7.72 1.47 1.35L5.41 20z\"/>\n",
              "  </svg>\n",
              "      </button>\n",
              "      \n",
              "  <style>\n",
              "    .colab-df-container {\n",
              "      display:flex;\n",
              "      flex-wrap:wrap;\n",
              "      gap: 12px;\n",
              "    }\n",
              "\n",
              "    .colab-df-convert {\n",
              "      background-color: #E8F0FE;\n",
              "      border: none;\n",
              "      border-radius: 50%;\n",
              "      cursor: pointer;\n",
              "      display: none;\n",
              "      fill: #1967D2;\n",
              "      height: 32px;\n",
              "      padding: 0 0 0 0;\n",
              "      width: 32px;\n",
              "    }\n",
              "\n",
              "    .colab-df-convert:hover {\n",
              "      background-color: #E2EBFA;\n",
              "      box-shadow: 0px 1px 2px rgba(60, 64, 67, 0.3), 0px 1px 3px 1px rgba(60, 64, 67, 0.15);\n",
              "      fill: #174EA6;\n",
              "    }\n",
              "\n",
              "    [theme=dark] .colab-df-convert {\n",
              "      background-color: #3B4455;\n",
              "      fill: #D2E3FC;\n",
              "    }\n",
              "\n",
              "    [theme=dark] .colab-df-convert:hover {\n",
              "      background-color: #434B5C;\n",
              "      box-shadow: 0px 1px 3px 1px rgba(0, 0, 0, 0.15);\n",
              "      filter: drop-shadow(0px 1px 2px rgba(0, 0, 0, 0.3));\n",
              "      fill: #FFFFFF;\n",
              "    }\n",
              "  </style>\n",
              "\n",
              "      <script>\n",
              "        const buttonEl =\n",
              "          document.querySelector('#df-45005e30-02cd-47a2-9e36-e01e54725a88 button.colab-df-convert');\n",
              "        buttonEl.style.display =\n",
              "          google.colab.kernel.accessAllowed ? 'block' : 'none';\n",
              "\n",
              "        async function convertToInteractive(key) {\n",
              "          const element = document.querySelector('#df-45005e30-02cd-47a2-9e36-e01e54725a88');\n",
              "          const dataTable =\n",
              "            await google.colab.kernel.invokeFunction('convertToInteractive',\n",
              "                                                     [key], {});\n",
              "          if (!dataTable) return;\n",
              "\n",
              "          const docLinkHtml = 'Like what you see? Visit the ' +\n",
              "            '<a target=\"_blank\" href=https://colab.research.google.com/notebooks/data_table.ipynb>data table notebook</a>'\n",
              "            + ' to learn more about interactive tables.';\n",
              "          element.innerHTML = '';\n",
              "          dataTable['output_type'] = 'display_data';\n",
              "          await google.colab.output.renderOutput(dataTable, element);\n",
              "          const docLink = document.createElement('div');\n",
              "          docLink.innerHTML = docLinkHtml;\n",
              "          element.appendChild(docLink);\n",
              "        }\n",
              "      </script>\n",
              "    </div>\n",
              "  </div>\n",
              "  "
            ],
            "text/plain": [
              "    x1  x2  x3  x4     y1    y2     y3     y4\n",
              "1   10  10  10   8   8.04  9.14   7.46   6.58\n",
              "2    8   8   8   8   6.95  8.14   6.77   5.76\n",
              "3   13  13  13   8   7.58  8.74  12.74   7.71\n",
              "4    9   9   9   8   8.81  8.77   7.11   8.84\n",
              "5   11  11  11   8   8.33  9.26   7.81   8.47\n",
              "6   14  14  14   8   9.96  8.10   8.84   7.04\n",
              "7    6   6   6   8   7.24  6.13   6.08   5.25\n",
              "8    4   4   4  19   4.26  3.10   5.39  12.50\n",
              "9   12  12  12   8  10.84  9.13   8.15   5.56\n",
              "10   7   7   7   8   4.82  7.26   6.42   7.91\n",
              "11   5   5   5   8   5.68  4.74   5.73   6.89"
            ]
          },
          "metadata": {},
          "execution_count": 8
        }
      ]
    },
    {
      "cell_type": "markdown",
      "metadata": {
        "id": "bf4HHMWelhB_"
      },
      "source": [
        "Calculamos los estadísticos de y1, y2, y3 e y4"
      ]
    },
    {
      "cell_type": "code",
      "source": [
        "df.iloc[:, 4:8].describe()"
      ],
      "metadata": {
        "colab": {
          "base_uri": "https://localhost:8080/",
          "height": 300
        },
        "id": "EtItv3Bp-BZP",
        "outputId": "424064d5-6daa-4c07-84a4-c46f273b411c"
      },
      "execution_count": null,
      "outputs": [
        {
          "output_type": "execute_result",
          "data": {
            "text/html": [
              "\n",
              "  <div id=\"df-c031e9d3-798a-466b-a24b-1aced984ff5d\">\n",
              "    <div class=\"colab-df-container\">\n",
              "      <div>\n",
              "<style scoped>\n",
              "    .dataframe tbody tr th:only-of-type {\n",
              "        vertical-align: middle;\n",
              "    }\n",
              "\n",
              "    .dataframe tbody tr th {\n",
              "        vertical-align: top;\n",
              "    }\n",
              "\n",
              "    .dataframe thead th {\n",
              "        text-align: right;\n",
              "    }\n",
              "</style>\n",
              "<table border=\"1\" class=\"dataframe\">\n",
              "  <thead>\n",
              "    <tr style=\"text-align: right;\">\n",
              "      <th></th>\n",
              "      <th>y1</th>\n",
              "      <th>y2</th>\n",
              "      <th>y3</th>\n",
              "      <th>y4</th>\n",
              "    </tr>\n",
              "  </thead>\n",
              "  <tbody>\n",
              "    <tr>\n",
              "      <th>count</th>\n",
              "      <td>11.000000</td>\n",
              "      <td>11.000000</td>\n",
              "      <td>11.000000</td>\n",
              "      <td>11.000000</td>\n",
              "    </tr>\n",
              "    <tr>\n",
              "      <th>mean</th>\n",
              "      <td>7.500909</td>\n",
              "      <td>7.500909</td>\n",
              "      <td>7.500000</td>\n",
              "      <td>7.500909</td>\n",
              "    </tr>\n",
              "    <tr>\n",
              "      <th>std</th>\n",
              "      <td>2.031568</td>\n",
              "      <td>2.031657</td>\n",
              "      <td>2.030424</td>\n",
              "      <td>2.030579</td>\n",
              "    </tr>\n",
              "    <tr>\n",
              "      <th>min</th>\n",
              "      <td>4.260000</td>\n",
              "      <td>3.100000</td>\n",
              "      <td>5.390000</td>\n",
              "      <td>5.250000</td>\n",
              "    </tr>\n",
              "    <tr>\n",
              "      <th>25%</th>\n",
              "      <td>6.315000</td>\n",
              "      <td>6.695000</td>\n",
              "      <td>6.250000</td>\n",
              "      <td>6.170000</td>\n",
              "    </tr>\n",
              "    <tr>\n",
              "      <th>50%</th>\n",
              "      <td>7.580000</td>\n",
              "      <td>8.140000</td>\n",
              "      <td>7.110000</td>\n",
              "      <td>7.040000</td>\n",
              "    </tr>\n",
              "    <tr>\n",
              "      <th>75%</th>\n",
              "      <td>8.570000</td>\n",
              "      <td>8.950000</td>\n",
              "      <td>7.980000</td>\n",
              "      <td>8.190000</td>\n",
              "    </tr>\n",
              "    <tr>\n",
              "      <th>max</th>\n",
              "      <td>10.840000</td>\n",
              "      <td>9.260000</td>\n",
              "      <td>12.740000</td>\n",
              "      <td>12.500000</td>\n",
              "    </tr>\n",
              "  </tbody>\n",
              "</table>\n",
              "</div>\n",
              "      <button class=\"colab-df-convert\" onclick=\"convertToInteractive('df-c031e9d3-798a-466b-a24b-1aced984ff5d')\"\n",
              "              title=\"Convert this dataframe to an interactive table.\"\n",
              "              style=\"display:none;\">\n",
              "        \n",
              "  <svg xmlns=\"http://www.w3.org/2000/svg\" height=\"24px\"viewBox=\"0 0 24 24\"\n",
              "       width=\"24px\">\n",
              "    <path d=\"M0 0h24v24H0V0z\" fill=\"none\"/>\n",
              "    <path d=\"M18.56 5.44l.94 2.06.94-2.06 2.06-.94-2.06-.94-.94-2.06-.94 2.06-2.06.94zm-11 1L8.5 8.5l.94-2.06 2.06-.94-2.06-.94L8.5 2.5l-.94 2.06-2.06.94zm10 10l.94 2.06.94-2.06 2.06-.94-2.06-.94-.94-2.06-.94 2.06-2.06.94z\"/><path d=\"M17.41 7.96l-1.37-1.37c-.4-.4-.92-.59-1.43-.59-.52 0-1.04.2-1.43.59L10.3 9.45l-7.72 7.72c-.78.78-.78 2.05 0 2.83L4 21.41c.39.39.9.59 1.41.59.51 0 1.02-.2 1.41-.59l7.78-7.78 2.81-2.81c.8-.78.8-2.07 0-2.86zM5.41 20L4 18.59l7.72-7.72 1.47 1.35L5.41 20z\"/>\n",
              "  </svg>\n",
              "      </button>\n",
              "      \n",
              "  <style>\n",
              "    .colab-df-container {\n",
              "      display:flex;\n",
              "      flex-wrap:wrap;\n",
              "      gap: 12px;\n",
              "    }\n",
              "\n",
              "    .colab-df-convert {\n",
              "      background-color: #E8F0FE;\n",
              "      border: none;\n",
              "      border-radius: 50%;\n",
              "      cursor: pointer;\n",
              "      display: none;\n",
              "      fill: #1967D2;\n",
              "      height: 32px;\n",
              "      padding: 0 0 0 0;\n",
              "      width: 32px;\n",
              "    }\n",
              "\n",
              "    .colab-df-convert:hover {\n",
              "      background-color: #E2EBFA;\n",
              "      box-shadow: 0px 1px 2px rgba(60, 64, 67, 0.3), 0px 1px 3px 1px rgba(60, 64, 67, 0.15);\n",
              "      fill: #174EA6;\n",
              "    }\n",
              "\n",
              "    [theme=dark] .colab-df-convert {\n",
              "      background-color: #3B4455;\n",
              "      fill: #D2E3FC;\n",
              "    }\n",
              "\n",
              "    [theme=dark] .colab-df-convert:hover {\n",
              "      background-color: #434B5C;\n",
              "      box-shadow: 0px 1px 3px 1px rgba(0, 0, 0, 0.15);\n",
              "      filter: drop-shadow(0px 1px 2px rgba(0, 0, 0, 0.3));\n",
              "      fill: #FFFFFF;\n",
              "    }\n",
              "  </style>\n",
              "\n",
              "      <script>\n",
              "        const buttonEl =\n",
              "          document.querySelector('#df-c031e9d3-798a-466b-a24b-1aced984ff5d button.colab-df-convert');\n",
              "        buttonEl.style.display =\n",
              "          google.colab.kernel.accessAllowed ? 'block' : 'none';\n",
              "\n",
              "        async function convertToInteractive(key) {\n",
              "          const element = document.querySelector('#df-c031e9d3-798a-466b-a24b-1aced984ff5d');\n",
              "          const dataTable =\n",
              "            await google.colab.kernel.invokeFunction('convertToInteractive',\n",
              "                                                     [key], {});\n",
              "          if (!dataTable) return;\n",
              "\n",
              "          const docLinkHtml = 'Like what you see? Visit the ' +\n",
              "            '<a target=\"_blank\" href=https://colab.research.google.com/notebooks/data_table.ipynb>data table notebook</a>'\n",
              "            + ' to learn more about interactive tables.';\n",
              "          element.innerHTML = '';\n",
              "          dataTable['output_type'] = 'display_data';\n",
              "          await google.colab.output.renderOutput(dataTable, element);\n",
              "          const docLink = document.createElement('div');\n",
              "          docLink.innerHTML = docLinkHtml;\n",
              "          element.appendChild(docLink);\n",
              "        }\n",
              "      </script>\n",
              "    </div>\n",
              "  </div>\n",
              "  "
            ],
            "text/plain": [
              "              y1         y2         y3         y4\n",
              "count  11.000000  11.000000  11.000000  11.000000\n",
              "mean    7.500909   7.500909   7.500000   7.500909\n",
              "std     2.031568   2.031657   2.030424   2.030579\n",
              "min     4.260000   3.100000   5.390000   5.250000\n",
              "25%     6.315000   6.695000   6.250000   6.170000\n",
              "50%     7.580000   8.140000   7.110000   7.040000\n",
              "75%     8.570000   8.950000   7.980000   8.190000\n",
              "max    10.840000   9.260000  12.740000  12.500000"
            ]
          },
          "metadata": {},
          "execution_count": 15
        }
      ]
    },
    {
      "cell_type": "markdown",
      "metadata": {
        "id": "Otfg1Xp8sZOO"
      },
      "source": [
        "En los 4 casos vemos que contamos con 11 valores para cada una de las variables, la media es prácticamente igual, así como la desviación típica."
      ]
    },
    {
      "cell_type": "code",
      "source": [
        "print('La mediana de y1 es: ', df.y1.median())\n",
        "print('La mediana de y2 es: ', df.y2.median())\n",
        "print('La mediana de y3 es: ', df.y3.median())\n",
        "print('La mediana de y4 es: ', df.y4.median())"
      ],
      "metadata": {
        "colab": {
          "base_uri": "https://localhost:8080/"
        },
        "id": "g1AXW9jKHTDK",
        "outputId": "9e4dc197-4014-42d5-d6f8-ce381d6177d2"
      },
      "execution_count": null,
      "outputs": [
        {
          "output_type": "stream",
          "name": "stdout",
          "text": [
            "La mediana de y1 es:  7.58\n",
            "La mediana de y2 es:  8.14\n",
            "La mediana de y3 es:  7.11\n",
            "La mediana de y4 es:  7.04\n"
          ]
        }
      ]
    },
    {
      "cell_type": "markdown",
      "source": [
        "La mediana es muy similar."
      ],
      "metadata": {
        "id": "y-kltWJkHY_Y"
      }
    },
    {
      "cell_type": "markdown",
      "metadata": {
        "id": "kSOZLu2lr363"
      },
      "source": [
        "Ahora, mostramos los gráficos de dispersión (xi, yi) para cada uno de los pares de datos."
      ]
    },
    {
      "cell_type": "code",
      "metadata": {
        "id": "Mj-WQfbQtjJO"
      },
      "source": [
        "from matplotlib.pyplot import subplot, scatter, plot, axis\n",
        "from scipy.stats import linregress"
      ],
      "execution_count": null,
      "outputs": []
    },
    {
      "cell_type": "code",
      "metadata": {
        "id": "icnfGgUvvHVe"
      },
      "source": [
        "xmax = 20\n",
        "ymax = 14"
      ],
      "execution_count": null,
      "outputs": []
    },
    {
      "cell_type": "code",
      "metadata": {
        "colab": {
          "base_uri": "https://localhost:8080/",
          "height": 167
        },
        "id": "KMz-cr6Zuawu",
        "outputId": "5f9e5d97-ff2e-43e8-89e3-a8132e2de7b8"
      },
      "source": [
        "ax1 = subplot(2, 2, 1)\n",
        "scatter(df.x1, df.y1)\n",
        "slope, intercept, r_value, p_value, std_err = linregress(df.x1, df.y1)\n",
        "plot([0, xmax], [intercept, slope * xmax + intercept])\n",
        "print(\"{0:.3f} {1:.2f} {2:.3f} {3:.3f} {4:.3f}\".format(slope, intercept, r_value, p_value, std_err))"
      ],
      "execution_count": null,
      "outputs": [
        {
          "output_type": "stream",
          "text": [
            "0.500 3.00 0.816 0.002 0.118\n"
          ],
          "name": "stdout"
        },
        {
          "output_type": "display_data",
          "data": {
            "image/png": "[encoded data removed]",
            "text/plain": [
              "<Figure size 432x288 with 1 Axes>"
            ]
          },
          "metadata": {
            "tags": []
          }
        }
      ]
    },
    {
      "cell_type": "code",
      "metadata": {
        "colab": {
          "base_uri": "https://localhost:8080/",
          "height": 167
        },
        "id": "jqeX4CQmu8PG",
        "outputId": "369d6712-2ce4-4a91-b6c6-6e6fa6b49bfd"
      },
      "source": [
        "subplot(2, 2, 2, sharex=ax1, sharey=ax1)\n",
        "scatter(df.x2, df.y2)\n",
        "slope, intercept, r_value, p_value, std_err = linregress(df.x2, df.y2)\n",
        "plot([0, xmax], [intercept, slope * xmax + intercept])\n",
        "print(\"{0:.3f} {1:.2f} {2:.3f} {3:.3f} {4:.3f}\".format(slope, intercept, r_value, p_value, std_err))"
      ],
      "execution_count": null,
      "outputs": [
        {
          "output_type": "stream",
          "text": [
            "0.500 3.00 0.816 0.002 0.118\n"
          ],
          "name": "stdout"
        },
        {
          "output_type": "display_data",
          "data": {
            "image/png": "[encoded data removed]",
            "text/plain": [
              "<Figure size 432x288 with 1 Axes>"
            ]
          },
          "metadata": {
            "tags": []
          }
        }
      ]
    },
    {
      "cell_type": "code",
      "metadata": {
        "colab": {
          "base_uri": "https://localhost:8080/",
          "height": 167
        },
        "id": "bVFPah1YvWju",
        "outputId": "173ec6c8-600c-4f2b-8733-02e0a8c35561"
      },
      "source": [
        "subplot(2, 2, 3, sharex=ax1, sharey=ax1)\n",
        "scatter(df.x3, df.y3)\n",
        "slope, intercept, r_value, p_value, std_err = linregress(df.x3, df.y3)\n",
        "plot([0, xmax], [intercept, slope * xmax + intercept])\n",
        "print(\"{0:.3f} {1:.2f} {2:.3f} {3:.3f} {4:.3f}\".format(slope, intercept, r_value, p_value, std_err))"
      ],
      "execution_count": null,
      "outputs": [
        {
          "output_type": "stream",
          "text": [
            "0.500 3.00 0.816 0.002 0.118\n"
          ],
          "name": "stdout"
        },
        {
          "output_type": "display_data",
          "data": {
            "image/png": "[encoded data removed]",
            "text/plain": [
              "<Figure size 432x288 with 1 Axes>"
            ]
          },
          "metadata": {
            "tags": []
          }
        }
      ]
    },
    {
      "cell_type": "code",
      "metadata": {
        "colab": {
          "base_uri": "https://localhost:8080/",
          "height": 167
        },
        "id": "2vnliWuoviM4",
        "outputId": "be2bf2bf-4e72-4186-8aee-ad2b7f9bfd20"
      },
      "source": [
        "subplot(2, 2, 4, sharex=ax1, sharey=ax1)\n",
        "scatter(df.x4, df.y4)\n",
        "slope, intercept, r_value, p_value, std_err = linregress(df.x4, df.y4)\n",
        "plot([0, xmax], [intercept, slope * xmax + intercept])\n",
        "print(\"{0:.3f} {1:.2f} {2:.3f} {3:.3f} {4:.3f}\".format(slope, intercept, r_value, p_value, std_err))"
      ],
      "execution_count": null,
      "outputs": [
        {
          "output_type": "stream",
          "text": [
            "0.500 3.00 0.817 0.002 0.118\n"
          ],
          "name": "stdout"
        },
        {
          "output_type": "display_data",
          "data": {
            "image/png": "[encoded data removed]",
            "text/plain": [
              "<Figure size 432x288 with 1 Axes>"
            ]
          },
          "metadata": {
            "tags": []
          }
        }
      ]
    },
    {
      "cell_type": "markdown",
      "metadata": {
        "id": "Hr284VCzv0ZQ"
      },
      "source": [
        "Como puede verse, a pesar de que la forma de la nube de puntos es radicalmente diferente para cada par (xi, yi), los valores de la media y mediana son muy parecidos, y su recta de regresión es la misma. \n",
        "\n",
        "De ahí la importancia de visualizar los datos y no confiar tan sólo en los datos estadísticos."
      ]
    },
    {
      "cell_type": "markdown",
      "source": [
        "# 1.2 Precios"
      ],
      "metadata": {
        "id": "Y-TIghtsRkmV"
      }
    },
    {
      "cell_type": "code",
      "metadata": {
        "id": "vaNwjqimRulD"
      },
      "source": [
        "import pandas as pd\n",
        "import numpy as np\n",
        "from pandas.api.types import CategoricalDtype\n",
        "from plotnine import *\n",
        "from plotnine.data import mpg\n",
        "%matplotlib inline\n",
        "\n",
        "import warnings\n",
        "warnings.filterwarnings(\"ignore\")"
      ],
      "execution_count": 4,
      "outputs": []
    },
    {
      "cell_type": "code",
      "source": [
        "from google.colab import drive\n",
        "drive.mount('/content/drive/')"
      ],
      "metadata": {
        "colab": {
          "base_uri": "https://localhost:8080/"
        },
        "id": "e3eRv6XVSAas",
        "outputId": "76add459-c337-4609-ec01-83c86b7612fb"
      },
      "execution_count": 5,
      "outputs": [
        {
          "output_type": "stream",
          "name": "stdout",
          "text": [
            "Drive already mounted at /content/drive/; to attempt to forcibly remount, call drive.mount(\"/content/drive/\", force_remount=True).\n"
          ]
        }
      ]
    },
    {
      "cell_type": "code",
      "source": [
        "from datetime import datetime, timedelta"
      ],
      "metadata": {
        "id": "1ZGb5stiJ1QX"
      },
      "execution_count": 6,
      "outputs": []
    },
    {
      "cell_type": "code",
      "source": [
        "!locale -a"
      ],
      "metadata": {
        "colab": {
          "base_uri": "https://localhost:8080/"
        },
        "id": "5ZUCXpcg-lzT",
        "outputId": "261f84f8-a724-4582-9a27-27b033620ff2"
      },
      "execution_count": 7,
      "outputs": [
        {
          "output_type": "stream",
          "name": "stdout",
          "text": [
            "C\n",
            "C.UTF-8\n",
            "en_US.utf8\n",
            "es_ES\n",
            "es_ES.iso88591\n",
            "POSIX\n",
            "spanish\n"
          ]
        }
      ]
    },
    {
      "cell_type": "code",
      "source": [
        "import os\n",
        "\n",
        "#!/usr/share/locales/install-language-pack es_ES\n",
        "#!dpkg-reconfigure locales\n",
        "\n",
        "# Restart Python process to pick up the new locales\n",
        "#os.kill(os.getpid(), 9)"
      ],
      "metadata": {
        "id": "lZ6Mts3qHmYs"
      },
      "execution_count": 1,
      "outputs": []
    },
    {
      "cell_type": "code",
      "source": [
        "import locale\n",
        "\n",
        "# Idioma \"es-ES\" (código para el español de España)\n",
        "locale.setlocale(locale.LC_ALL, 'spanish')"
      ],
      "metadata": {
        "colab": {
          "base_uri": "https://localhost:8080/",
          "height": 36
        },
        "id": "6CMpSQ0f8dly",
        "outputId": "57b12c24-23e4-4f39-f9bc-bddb7b0978ae"
      },
      "execution_count": 2,
      "outputs": [
        {
          "output_type": "execute_result",
          "data": {
            "application/vnd.google.colaboratory.intrinsic+json": {
              "type": "string"
            },
            "text/plain": [
              "'spanish'"
            ]
          },
          "metadata": {},
          "execution_count": 2
        }
      ]
    },
    {
      "cell_type": "code",
      "source": [
        "precios = pd.read_csv('/content/drive/MyDrive/Visualización/Práctica 1/Precios_2019_20.csv', sep = \";\", encoding='latin-1')\n",
        "precios.head()"
      ],
      "metadata": {
        "id": "B6pUB5joDAPT",
        "colab": {
          "base_uri": "https://localhost:8080/",
          "height": 206
        },
        "outputId": "4a777e38-399a-46b0-e7c3-16bc5a4338de"
      },
      "execution_count": 8,
      "outputs": [
        {
          "output_type": "execute_result",
          "data": {
            "text/html": [
              "\n",
              "  <div id=\"df-a20277cf-101c-4c23-99ac-05ebff5df326\">\n",
              "    <div class=\"colab-df-container\">\n",
              "      <div>\n",
              "<style scoped>\n",
              "    .dataframe tbody tr th:only-of-type {\n",
              "        vertical-align: middle;\n",
              "    }\n",
              "\n",
              "    .dataframe tbody tr th {\n",
              "        vertical-align: top;\n",
              "    }\n",
              "\n",
              "    .dataframe thead th {\n",
              "        text-align: right;\n",
              "    }\n",
              "</style>\n",
              "<table border=\"1\" class=\"dataframe\">\n",
              "  <thead>\n",
              "    <tr style=\"text-align: right;\">\n",
              "      <th></th>\n",
              "      <th>Zona</th>\n",
              "      <th>Cultivo</th>\n",
              "      <th>Año</th>\n",
              "      <th>Mes</th>\n",
              "      <th>Precio</th>\n",
              "    </tr>\n",
              "  </thead>\n",
              "  <tbody>\n",
              "    <tr>\n",
              "      <th>0</th>\n",
              "      <td>CANARIAS</td>\n",
              "      <td>Aguacate</td>\n",
              "      <td>2016</td>\n",
              "      <td>Enero</td>\n",
              "      <td>1.89</td>\n",
              "    </tr>\n",
              "    <tr>\n",
              "      <th>1</th>\n",
              "      <td>CANARIAS</td>\n",
              "      <td>Aguacate</td>\n",
              "      <td>2016</td>\n",
              "      <td>Febrero</td>\n",
              "      <td>1.97</td>\n",
              "    </tr>\n",
              "    <tr>\n",
              "      <th>2</th>\n",
              "      <td>CANARIAS</td>\n",
              "      <td>Aguacate</td>\n",
              "      <td>2016</td>\n",
              "      <td>Marzo</td>\n",
              "      <td>1.93</td>\n",
              "    </tr>\n",
              "    <tr>\n",
              "      <th>3</th>\n",
              "      <td>CANARIAS</td>\n",
              "      <td>Aguacate</td>\n",
              "      <td>2016</td>\n",
              "      <td>Abril</td>\n",
              "      <td>2.09</td>\n",
              "    </tr>\n",
              "    <tr>\n",
              "      <th>4</th>\n",
              "      <td>CANARIAS</td>\n",
              "      <td>Aguacate</td>\n",
              "      <td>2016</td>\n",
              "      <td>Mayo</td>\n",
              "      <td>2.42</td>\n",
              "    </tr>\n",
              "  </tbody>\n",
              "</table>\n",
              "</div>\n",
              "      <button class=\"colab-df-convert\" onclick=\"convertToInteractive('df-a20277cf-101c-4c23-99ac-05ebff5df326')\"\n",
              "              title=\"Convert this dataframe to an interactive table.\"\n",
              "              style=\"display:none;\">\n",
              "        \n",
              "  <svg xmlns=\"http://www.w3.org/2000/svg\" height=\"24px\"viewBox=\"0 0 24 24\"\n",
              "       width=\"24px\">\n",
              "    <path d=\"M0 0h24v24H0V0z\" fill=\"none\"/>\n",
              "    <path d=\"M18.56 5.44l.94 2.06.94-2.06 2.06-.94-2.06-.94-.94-2.06-.94 2.06-2.06.94zm-11 1L8.5 8.5l.94-2.06 2.06-.94-2.06-.94L8.5 2.5l-.94 2.06-2.06.94zm10 10l.94 2.06.94-2.06 2.06-.94-2.06-.94-.94-2.06-.94 2.06-2.06.94z\"/><path d=\"M17.41 7.96l-1.37-1.37c-.4-.4-.92-.59-1.43-.59-.52 0-1.04.2-1.43.59L10.3 9.45l-7.72 7.72c-.78.78-.78 2.05 0 2.83L4 21.41c.39.39.9.59 1.41.59.51 0 1.02-.2 1.41-.59l7.78-7.78 2.81-2.81c.8-.78.8-2.07 0-2.86zM5.41 20L4 18.59l7.72-7.72 1.47 1.35L5.41 20z\"/>\n",
              "  </svg>\n",
              "      </button>\n",
              "      \n",
              "  <style>\n",
              "    .colab-df-container {\n",
              "      display:flex;\n",
              "      flex-wrap:wrap;\n",
              "      gap: 12px;\n",
              "    }\n",
              "\n",
              "    .colab-df-convert {\n",
              "      background-color: #E8F0FE;\n",
              "      border: none;\n",
              "      border-radius: 50%;\n",
              "      cursor: pointer;\n",
              "      display: none;\n",
              "      fill: #1967D2;\n",
              "      height: 32px;\n",
              "      padding: 0 0 0 0;\n",
              "      width: 32px;\n",
              "    }\n",
              "\n",
              "    .colab-df-convert:hover {\n",
              "      background-color: #E2EBFA;\n",
              "      box-shadow: 0px 1px 2px rgba(60, 64, 67, 0.3), 0px 1px 3px 1px rgba(60, 64, 67, 0.15);\n",
              "      fill: #174EA6;\n",
              "    }\n",
              "\n",
              "    [theme=dark] .colab-df-convert {\n",
              "      background-color: #3B4455;\n",
              "      fill: #D2E3FC;\n",
              "    }\n",
              "\n",
              "    [theme=dark] .colab-df-convert:hover {\n",
              "      background-color: #434B5C;\n",
              "      box-shadow: 0px 1px 3px 1px rgba(0, 0, 0, 0.15);\n",
              "      filter: drop-shadow(0px 1px 2px rgba(0, 0, 0, 0.3));\n",
              "      fill: #FFFFFF;\n",
              "    }\n",
              "  </style>\n",
              "\n",
              "      <script>\n",
              "        const buttonEl =\n",
              "          document.querySelector('#df-a20277cf-101c-4c23-99ac-05ebff5df326 button.colab-df-convert');\n",
              "        buttonEl.style.display =\n",
              "          google.colab.kernel.accessAllowed ? 'block' : 'none';\n",
              "\n",
              "        async function convertToInteractive(key) {\n",
              "          const element = document.querySelector('#df-a20277cf-101c-4c23-99ac-05ebff5df326');\n",
              "          const dataTable =\n",
              "            await google.colab.kernel.invokeFunction('convertToInteractive',\n",
              "                                                     [key], {});\n",
              "          if (!dataTable) return;\n",
              "\n",
              "          const docLinkHtml = 'Like what you see? Visit the ' +\n",
              "            '<a target=\"_blank\" href=https://colab.research.google.com/notebooks/data_table.ipynb>data table notebook</a>'\n",
              "            + ' to learn more about interactive tables.';\n",
              "          element.innerHTML = '';\n",
              "          dataTable['output_type'] = 'display_data';\n",
              "          await google.colab.output.renderOutput(dataTable, element);\n",
              "          const docLink = document.createElement('div');\n",
              "          docLink.innerHTML = docLinkHtml;\n",
              "          element.appendChild(docLink);\n",
              "        }\n",
              "      </script>\n",
              "    </div>\n",
              "  </div>\n",
              "  "
            ],
            "text/plain": [
              "       Zona   Cultivo   Año      Mes Precio\n",
              "0  CANARIAS  Aguacate  2016    Enero   1.89\n",
              "1  CANARIAS  Aguacate  2016  Febrero   1.97\n",
              "2  CANARIAS  Aguacate  2016    Marzo   1.93\n",
              "3  CANARIAS  Aguacate  2016    Abril   2.09\n",
              "4  CANARIAS  Aguacate  2016     Mayo   2.42"
            ]
          },
          "metadata": {},
          "execution_count": 8
        }
      ]
    },
    {
      "cell_type": "code",
      "source": [
        "precios['Precio'] = pd.to_numeric(precios['Precio'], errors = 'coerce')"
      ],
      "metadata": {
        "id": "fPoLi7omR4ah"
      },
      "execution_count": 9,
      "outputs": []
    },
    {
      "cell_type": "code",
      "source": [
        "precios_idx = precios[precios['Precio'].isna()].index\n",
        "precios = precios.drop(precios_idx)"
      ],
      "metadata": {
        "id": "Emc2hlOu38BK"
      },
      "execution_count": 10,
      "outputs": []
    },
    {
      "cell_type": "code",
      "source": [
        "precios['Fecha'] = precios['Mes'] + '/' + precios['Año'].map(str)"
      ],
      "metadata": {
        "id": "kjfOhij5HuHj"
      },
      "execution_count": 11,
      "outputs": []
    },
    {
      "cell_type": "code",
      "source": [
        "precios['Fecha'] = pd.to_datetime(precios['Fecha'], format=\"%B/%Y\")"
      ],
      "metadata": {
        "id": "fNkiP1ZgMP-X"
      },
      "execution_count": 12,
      "outputs": []
    },
    {
      "cell_type": "code",
      "source": [
        "(ggplot(precios[(precios['Cultivo'] == 'Aguacate') & (precios['Zona'] == 'CANARIAS') & (precios['Año'] == 2016)], aes(x=\"Fecha\", y=\"Precio\")) \n",
        "  + geom_point()\n",
        "  + geom_line()\n",
        "  #+ geom_smooth(method=\"lm\", se = False)\n",
        "  #+ facet_wrap('Año',  ncol = 4)\n",
        "  + theme(axis_text_x = element_text(angle=90))\n",
        ")"
      ],
      "metadata": {
        "colab": {
          "base_uri": "https://localhost:8080/",
          "height": 523
        },
        "id": "qvmtoji6JT91",
        "outputId": "1e528f1f-c661-4957-aa83-d38113972ed0"
      },
      "execution_count": 19,
      "outputs": [
        {
          "output_type": "display_data",
          "data": {
            "image/png": "[encoded data removed]",
            "text/plain": [
              "<Figure size 640x480 with 1 Axes>"
            ]
          },
          "metadata": {}
        },
        {
          "output_type": "execute_result",
          "data": {
            "text/plain": [
              "<ggplot: (8727070652037)>"
            ]
          },
          "metadata": {},
          "execution_count": 19
        }
      ]
    },
    {
      "cell_type": "markdown",
      "source": [
        "Aquí podemos ver la evolución de los precios del aguacate para toda Canarias a lo largo del año 2016. Como es de esperar, los precios son más bajos cuando se está en temporada de la fruta, al final del otoño y durante el invierno y el inicio de la primavera. Por contra, los precios de ponen por las nubes durante el resto del año, especialmente en verano."
      ],
      "metadata": {
        "id": "AmseazfJsz-6"
      }
    },
    {
      "cell_type": "code",
      "source": [
        "(ggplot(precios[(precios['Cultivo'] == 'Aguacate') & (precios['Zona'] == 'CANARIAS')], aes(x=\"Fecha\", y=\"Precio\")) \n",
        "  + geom_point()\n",
        "  + geom_line()\n",
        "  #+ geom_smooth(method=\"lm\", se = False)\n",
        "  #+ facet_wrap('Fecha',  ncol = 4)\n",
        "  + theme(axis_text_x = element_text(angle=90))\n",
        ")"
      ],
      "metadata": {
        "colab": {
          "base_uri": "https://localhost:8080/",
          "height": 523
        },
        "id": "TeCLHVrIKxqM",
        "outputId": "9647e529-d626-486d-8efa-e86c76b07d5b"
      },
      "execution_count": 17,
      "outputs": [
        {
          "output_type": "display_data",
          "data": {
            "image/png": "[encoded data removed]",
            "text/plain": [
              "<Figure size 640x480 with 1 Axes>"
            ]
          },
          "metadata": {}
        },
        {
          "output_type": "execute_result",
          "data": {
            "text/plain": [
              "<ggplot: (8727071068569)>"
            ]
          },
          "metadata": {},
          "execution_count": 17
        }
      ]
    },
    {
      "cell_type": "markdown",
      "source": [
        "Como extensión a la gráfica anterior, aquí se muestra la evolución de los precios del aguacate para toda Canarias entre el año 2016 y el 2019. Vemos que el comportamiento antes descrito se repite de manera cíclica para todos los años, aunque con algunas diferencias. \n",
        "\n",
        "A principios del año 2017 se observa una gran bajada de los precios, lo cual viene seguido de un pico del precio para ese mismo año igual al del año anterior, 2016, lo que hace suponer que los niveles y costes de producción hasta 2018 seguían la misma tendencia, cosa que se ve interrumpida a partir de 2018, puesto que al inicio de ese año los precios no llegan a ser tan bajos como en años anteriores. Más aún, los precios en verano de ese mismo año alcanzan el máximo para este periodo de 4 años, tendencia que se ve repetida en 2019. Esto hace pensar que ha habido dificultades o sobrecostes para la producción de aguacates, ya que incluso en temporada los precios se mantienen altos."
      ],
      "metadata": {
        "id": "ja1WnfiTtoYD"
      }
    },
    {
      "cell_type": "code",
      "source": [
        "(ggplot(precios[(precios['Cultivo'] == 'Papaya') & (precios['Zona'] == 'CANARIAS')], aes(x=\"Fecha\", y=\"Precio\")) \n",
        "  + geom_point()\n",
        "  + geom_line()\n",
        "  + theme(axis_text_x = element_text(angle=90))\n",
        ")"
      ],
      "metadata": {
        "colab": {
          "base_uri": "https://localhost:8080/",
          "height": 527
        },
        "id": "HWxJzSElMaDc",
        "outputId": "7e3741e2-e615-4518-8fab-a4d064e17e2e"
      },
      "execution_count": 18,
      "outputs": [
        {
          "output_type": "display_data",
          "data": {
            "image/png": "[encoded data removed]",
            "text/plain": [
              "<Figure size 640x480 with 1 Axes>"
            ]
          },
          "metadata": {}
        },
        {
          "output_type": "execute_result",
          "data": {
            "text/plain": [
              "<ggplot: (8727070723333)>"
            ]
          },
          "metadata": {},
          "execution_count": 18
        }
      ]
    },
    {
      "cell_type": "markdown",
      "source": [
        "Aquí observamos la evolución de los precios de la papaya para toda Canarias entre el año 2016 y el 2019. Debido a que la papaya es una fruta que se cultiva en zonas costeras de Canarias, las cuales generalmente gozan de temperaturas agradables la mayor parte del año, vemos que durante los años 2016 y 2017 los precios se mantienen más o menos constantes. No es así durante los años 2018 y 2019, años en los que el precio sube hasta casi duplicar su precio en algunos meses. \n",
        "\n",
        "Se puede observar que cuanto más sube el precio durante 2018 es durante el otoño. Esto podría hacer pensar en los supuestos problemas económicos que supusimos para el aguacate, o bien que 2018 y 2019 han sido años muy fríos que han dado al traste con la producción de frutas como la papaya, y posiblemente, el aguacate."
      ],
      "metadata": {
        "id": "AX7WS1_Vv92V"
      }
    }
  ]
}